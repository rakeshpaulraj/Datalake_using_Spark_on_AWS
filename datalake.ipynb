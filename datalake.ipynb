{
 "cells": [
  {
   "cell_type": "markdown",
   "metadata": {},
   "source": [
    "### Lessons Learnt:\n",
    "- Use hadoop aws jar file in config parameter while creating SparkSession\n",
    "- Have AWS credentials with S3 access in config file\n",
    "- Do not use quotes in AWS Credentials\n",
    "- Use s3a to access S3 buckets. (s3 and s3n will need different drivers/jars)\n",
    "- if any error, Restart the kernel  before executing again"
   ]
  },
  {
   "cell_type": "code",
   "execution_count": 1,
   "metadata": {},
   "outputs": [],
   "source": [
    "import configparser\n",
    "import os\n",
    "from pyspark.sql.functions import col as Fcol, from_unixtime \n",
    "from pyspark.sql.functions import year as Fyear\n",
    "from pyspark.sql.functions import month as Fmonth\n",
    "import pyspark.sql.functions as F"
   ]
  },
  {
   "cell_type": "markdown",
   "metadata": {},
   "source": [
    "### Setup AWS credentials"
   ]
  },
  {
   "cell_type": "code",
   "execution_count": 2,
   "metadata": {},
   "outputs": [],
   "source": [
    "config = configparser.ConfigParser()\n",
    "config.read('dl.cfg')\n",
    "os.environ['AWS_ACCESS_KEY_ID']=config['AWS_CREDENTIALS']['AWS_ACCESS_KEY_ID']\n",
    "os.environ['AWS_SECRET_ACCESS_KEY']=config['AWS_CREDENTIALS']['AWS_SECRET_ACCESS_KEY']"
   ]
  },
  {
   "cell_type": "markdown",
   "metadata": {},
   "source": [
    "### Initiate Spark Session"
   ]
  },
  {
   "cell_type": "code",
   "execution_count": 3,
   "metadata": {},
   "outputs": [],
   "source": [
    "from pyspark.sql import SparkSession\n",
    "spark = SparkSession \\\n",
    "    .builder \\\n",
    "    .appName(\"demo\") \\\n",
    "    .config(\"spark.jars.packages\",\"org.apache.hadoop:hadoop-aws:2.7.0\") \\\n",
    "    .getOrCreate()"
   ]
  },
  {
   "cell_type": "markdown",
   "metadata": {},
   "source": [
    "### Location for Input and Output data"
   ]
  },
  {
   "cell_type": "code",
   "execution_count": 4,
   "metadata": {},
   "outputs": [],
   "source": [
    "input_song_data = \"s3a://udacity-dend/song_data/A/A/A/*.json\"\n",
    "input_log_data = \"s3a://udacity-dend/log_data/2018/11/*.json\"\n",
    "output_data = \"./spark-warehouse\""
   ]
  },
  {
   "cell_type": "markdown",
   "metadata": {},
   "source": [
    "### Read Input data into dataframe"
   ]
  },
  {
   "cell_type": "code",
   "execution_count": 5,
   "metadata": {},
   "outputs": [],
   "source": [
    "song_data_json_df = spark.read.json(input_song_data)"
   ]
  },
  {
   "cell_type": "code",
   "execution_count": 21,
   "metadata": {},
   "outputs": [],
   "source": [
    "#song_data_json_df.printSchema()"
   ]
  },
  {
   "cell_type": "code",
   "execution_count": 22,
   "metadata": {},
   "outputs": [
    {
     "data": {
      "text/plain": [
       "24"
      ]
     },
     "execution_count": 22,
     "metadata": {},
     "output_type": "execute_result"
    }
   ],
   "source": [
    "song_data_json_df.count()"
   ]
  },
  {
   "cell_type": "markdown",
   "metadata": {},
   "source": [
    "### Create a Temp view on song data"
   ]
  },
  {
   "cell_type": "code",
   "execution_count": 6,
   "metadata": {},
   "outputs": [],
   "source": [
    "song_data_json_df.createOrReplaceTempView(\"song_data_view\")"
   ]
  },
  {
   "cell_type": "markdown",
   "metadata": {},
   "source": [
    "## Songs Dimension Table ##"
   ]
  },
  {
   "cell_type": "markdown",
   "metadata": {},
   "source": [
    "#### Extract columns for loading songs table"
   ]
  },
  {
   "cell_type": "code",
   "execution_count": 7,
   "metadata": {},
   "outputs": [],
   "source": [
    "songs_table = spark.sql(\"select distinct song_id, title, artist_id, year, duration from song_data_view\")"
   ]
  },
  {
   "cell_type": "markdown",
   "metadata": {},
   "source": [
    "### Write into songs table in parquet mode"
   ]
  },
  {
   "cell_type": "code",
   "execution_count": 8,
   "metadata": {},
   "outputs": [],
   "source": [
    "songs_table.write.partitionBy('year', 'artist_id').parquet(os.path.join(output_data, 'songs'))"
   ]
  },
  {
   "cell_type": "code",
   "execution_count": 9,
   "metadata": {},
   "outputs": [],
   "source": [
    "song_data_from_parquet = spark.read.parquet(os.path.join(output_data, 'songs'))"
   ]
  },
  {
   "cell_type": "code",
   "execution_count": 10,
   "metadata": {},
   "outputs": [
    {
     "name": "stdout",
     "output_type": "stream",
     "text": [
      "+------------------+--------------------+---------+----+------------------+\n",
      "|           song_id|               title| duration|year|         artist_id|\n",
      "+------------------+--------------------+---------+----+------------------+\n",
      "|SOKTJDS12AF72A25E5|Drown In My Own T...|  192.522|   0|ARA23XO1187B9AF18F|\n",
      "|SOEKAZG12AB018837E|I'll Slap Your Fa...|129.85424|2001|ARSVTNL1187B992A91|\n",
      "|SOAFBCP12A8C13CC7D|King Of Scurf (20...|301.40036|1972|ARTC1LV1187B9A4858|\n",
      "|SORRNOC12AB017F52B|The Last Beat Of ...|337.81506|2004|ARSZ7L31187FB4E610|\n",
      "|SOQPWCR12A6D4FB2A3|A Poor Recipe For...|118.07302|2005|AR73AIO1187B9AD57B|\n",
      "+------------------+--------------------+---------+----+------------------+\n",
      "only showing top 5 rows\n",
      "\n"
     ]
    }
   ],
   "source": [
    "song_data_from_parquet.show(5)"
   ]
  },
  {
   "cell_type": "markdown",
   "metadata": {},
   "source": [
    "## Artists Dimension Table"
   ]
  },
  {
   "cell_type": "markdown",
   "metadata": {},
   "source": [
    "### Extract columns for loading artists table"
   ]
  },
  {
   "cell_type": "code",
   "execution_count": 11,
   "metadata": {},
   "outputs": [],
   "source": [
    "# extract columns to create artists table\n",
    "artists_table = spark.sql('''\n",
    "    select distinct artist_id\n",
    "        , artist_name as name\n",
    "        , artist_location as location\n",
    "        , artist_latitude as lattitude\n",
    "        , artist_longitude as longitude \n",
    "    from song_data_view\n",
    "    ''') "
   ]
  },
  {
   "cell_type": "markdown",
   "metadata": {},
   "source": [
    "### Write into artists table in parquet mode"
   ]
  },
  {
   "cell_type": "code",
   "execution_count": 12,
   "metadata": {},
   "outputs": [],
   "source": [
    "# write artists table to parquet files\n",
    "artists_table.write.parquet(os.path.join(output_data, 'artists'), 'overwrite')"
   ]
  },
  {
   "cell_type": "markdown",
   "metadata": {},
   "source": [
    "### Data Loading validation - Read from artists parquet file"
   ]
  },
  {
   "cell_type": "code",
   "execution_count": 14,
   "metadata": {},
   "outputs": [
    {
     "name": "stdout",
     "output_type": "stream",
     "text": [
      "+------------------+--------------------+--------------------+---------+---------+\n",
      "|         artist_id|                name|            location|lattitude|longitude|\n",
      "+------------------+--------------------+--------------------+---------+---------+\n",
      "|ARTC1LV1187B9A4858|  The Bonzo Dog Band|Goldsmith's Colle...|  51.4536| -0.01802|\n",
      "|ARA23XO1187B9AF18F|     The Smithereens|Carteret, New Jersey| 40.57885|-74.21956|\n",
      "|AR5LMPY1187FB573FE|   Chaka Khan_ Rufus|         Chicago, IL| 41.88415|-87.63241|\n",
      "|ARSVTNL1187B992A91|       Jonathan King|     London, England| 51.50632| -0.12714|\n",
      "|AR10USD1187B99F3F1|Tweeterfriendly M...|Burlington, Ontar...|     null|     null|\n",
      "+------------------+--------------------+--------------------+---------+---------+\n",
      "only showing top 5 rows\n",
      "\n"
     ]
    }
   ],
   "source": [
    "artist_data_from_parquet = spark.read.parquet(os.path.join(output_data, 'artists'))\n",
    "artist_data_from_parquet.show(5)"
   ]
  },
  {
   "cell_type": "code",
   "execution_count": 15,
   "metadata": {},
   "outputs": [],
   "source": [
    "log_data_json_df = spark.read.json(input_log_data)"
   ]
  },
  {
   "cell_type": "code",
   "execution_count": 16,
   "metadata": {},
   "outputs": [
    {
     "data": {
      "text/plain": [
       "8056"
      ]
     },
     "execution_count": 16,
     "metadata": {},
     "output_type": "execute_result"
    }
   ],
   "source": [
    "log_data_json_df.count()"
   ]
  },
  {
   "cell_type": "code",
   "execution_count": 17,
   "metadata": {},
   "outputs": [],
   "source": [
    "log_data_df = log_data_json_df\n",
    "log_data_df = log_data_df.filter(col(\"page\")==\"NextSong\")\n",
    "log_data_df = log_data_df.withColumn('start_time', from_unixtime(log_data_df.ts / 1000).cast('timestamp').alias('start_time'))"
   ]
  },
  {
   "cell_type": "code",
   "execution_count": 18,
   "metadata": {},
   "outputs": [
    {
     "name": "stdout",
     "output_type": "stream",
     "text": [
      "+-------------+-------------------+\n",
      "|           ts|         start_time|\n",
      "+-------------+-------------------+\n",
      "|1542241826796|2018-11-15 00:30:26|\n",
      "|1542242481796|2018-11-15 00:41:21|\n",
      "|1542242741796|2018-11-15 00:45:41|\n",
      "|1542253449796|2018-11-15 03:44:09|\n",
      "|1542260935796|2018-11-15 05:48:55|\n",
      "+-------------+-------------------+\n",
      "only showing top 5 rows\n",
      "\n"
     ]
    }
   ],
   "source": [
    "log_data_df.select(\"ts\", \"start_time\").show(5)"
   ]
  },
  {
   "cell_type": "code",
   "execution_count": 19,
   "metadata": {},
   "outputs": [],
   "source": [
    "log_data_df.createOrReplaceTempView(\"log_data_view\")"
   ]
  },
  {
   "cell_type": "code",
   "execution_count": 20,
   "metadata": {},
   "outputs": [],
   "source": [
    "time_table = spark.sql(\"\\\n",
    "select distinct start_time \\\n",
    ", hour(start_time) as hour \\\n",
    ", day(start_time) as day \\\n",
    ", weekofyear(start_time) as week \\\n",
    ", month(start_time) as month \\\n",
    ", year(start_time) as year \\\n",
    ", weekday(start_time) as weekday \\\n",
    "from log_data_view\")"
   ]
  },
  {
   "cell_type": "code",
   "execution_count": 24,
   "metadata": {},
   "outputs": [],
   "source": [
    "time_table.write.partitionBy(\"year\",\"month\").parquet(os.path.join(output_data, 'time'),'overwrite')"
   ]
  },
  {
   "cell_type": "code",
   "execution_count": 30,
   "metadata": {},
   "outputs": [
    {
     "name": "stdout",
     "output_type": "stream",
     "text": [
      "+-------------------+----+---+----+-------+----+-----+\n",
      "|         start_time|hour|day|week|weekday|year|month|\n",
      "+-------------------+----+---+----+-------+----+-----+\n",
      "|2018-11-15 10:34:50|  10| 15|  46|      3|2018|   11|\n",
      "|2018-11-15 17:56:18|  17| 15|  46|      3|2018|   11|\n",
      "|2018-11-21 01:57:34|   1| 21|  47|      2|2018|   11|\n",
      "|2018-11-21 05:40:26|   5| 21|  47|      2|2018|   11|\n",
      "|2018-11-21 07:56:51|   7| 21|  47|      2|2018|   11|\n",
      "+-------------------+----+---+----+-------+----+-----+\n",
      "only showing top 5 rows\n",
      "\n"
     ]
    }
   ],
   "source": [
    "time_data_from_parquet = spark.read.parquet(os.path.join(output_data, 'time'))\n",
    "time_data_from_parquet.show(5)"
   ]
  },
  {
   "cell_type": "code",
   "execution_count": 32,
   "metadata": {},
   "outputs": [],
   "source": [
    "user_table = spark.sql(\" \\\n",
    "select  \\\n",
    "      cast(userId as integer) as userId \\\n",
    "    , firstName \\\n",
    "    , lastName \\\n",
    "    , gender \\\n",
    "    , max(level) as level \\\n",
    "from log_data_view \\\n",
    "where nvl(trim(userid), '') <> '' \\\n",
    "group by userId, firstName, lastName, gender \\\n",
    "\")"
   ]
  },
  {
   "cell_type": "code",
   "execution_count": 33,
   "metadata": {},
   "outputs": [],
   "source": [
    "user_table.write.mode('overwrite').parquet(os.path.join(output_data, 'users'))"
   ]
  },
  {
   "cell_type": "code",
   "execution_count": 35,
   "metadata": {},
   "outputs": [
    {
     "name": "stdout",
     "output_type": "stream",
     "text": [
      "+------+---------+--------+------+-----+\n",
      "|userId|firstName|lastName|gender|level|\n",
      "+------+---------+--------+------+-----+\n",
      "|    14| Theodore|  Harris|     M| free|\n",
      "|     5|   Elijah|   Davis|     M| free|\n",
      "|    67|     Colm| Santana|     M| free|\n",
      "|    77|Magdalene|  Herman|     F| free|\n",
      "|     2|  Jizelle|Benjamin|     F| free|\n",
      "+------+---------+--------+------+-----+\n",
      "only showing top 5 rows\n",
      "\n"
     ]
    }
   ],
   "source": [
    "users_data_from_parquet = spark.read.parquet(os.path.join(output_data, 'users'))\n",
    "users_data_from_parquet.show(5)"
   ]
  },
  {
   "cell_type": "markdown",
   "metadata": {},
   "source": [
    "### Read the songs and artists dimension tables from parquet files"
   ]
  },
  {
   "cell_type": "code",
   "execution_count": 37,
   "metadata": {},
   "outputs": [],
   "source": [
    "songs = spark.read.parquet(os.path.join(output_data, 'songs'))\n",
    "songs.createOrReplaceTempView(\"songs_view\")\n",
    "artists = spark.read.parquet(os.path.join(output_data, 'artists'))\n",
    "artists.createOrReplaceTempView(\"artists_view\")"
   ]
  },
  {
   "cell_type": "code",
   "execution_count": 52,
   "metadata": {},
   "outputs": [],
   "source": [
    "song_data_json_df = spark.read.json(input_song_data)"
   ]
  },
  {
   "cell_type": "code",
   "execution_count": 54,
   "metadata": {},
   "outputs": [],
   "source": [
    "song_data_json_df.createOrReplaceTempView(\"song_data_view\")"
   ]
  },
  {
   "cell_type": "code",
   "execution_count": 55,
   "metadata": {},
   "outputs": [
    {
     "name": "stdout",
     "output_type": "stream",
     "text": [
      "root\n",
      " |-- artist_id: string (nullable = true)\n",
      " |-- artist_latitude: double (nullable = true)\n",
      " |-- artist_location: string (nullable = true)\n",
      " |-- artist_longitude: double (nullable = true)\n",
      " |-- artist_name: string (nullable = true)\n",
      " |-- duration: double (nullable = true)\n",
      " |-- num_songs: long (nullable = true)\n",
      " |-- song_id: string (nullable = true)\n",
      " |-- title: string (nullable = true)\n",
      " |-- year: long (nullable = true)\n",
      "\n"
     ]
    }
   ],
   "source": [
    "song_data_json_df.printSchema()"
   ]
  },
  {
   "cell_type": "markdown",
   "metadata": {},
   "source": [
    "### Extract columns for loading songplays table\n"
   ]
  },
  {
   "cell_type": "code",
   "execution_count": 103,
   "metadata": {},
   "outputs": [],
   "source": [
    "songplays_table = spark.sql('''\n",
    "select e.start_time \n",
    "    , case when nvl(userId, '') = '' then NULL else cast(e.userId as integer) end as userId \n",
    "    , e.level \n",
    "    , sa.song_id \n",
    "    , sa.artist_id \n",
    "    , e.sessionId\n",
    "    , e.location\n",
    "    , e.userAgent\n",
    "    , year(start_time) as year\n",
    "    , month(start_time) as month\n",
    "from log_data_view e\n",
    "left join \n",
    "(\n",
    "    select distinct song_id, title as song_title, duration, artist_id, artist_name\n",
    "    from song_data_view \n",
    ") sa\n",
    "on e.song = sa.song_title\n",
    "and e.length = sa.duration\n",
    "and e.artist = sa.artist_name\n",
    "where e.page = 'NextSong'\n",
    "''')"
   ]
  },
  {
   "cell_type": "markdown",
   "metadata": {},
   "source": [
    "### Write into songplays table in parquet format"
   ]
  },
  {
   "cell_type": "code",
   "execution_count": 104,
   "metadata": {},
   "outputs": [],
   "source": [
    "songplays_table.write.partitionBy(\"year\", \"month\").parquet(os.path.join(output_data, 'songplays'), 'overwrite')"
   ]
  },
  {
   "cell_type": "code",
   "execution_count": 105,
   "metadata": {},
   "outputs": [
    {
     "name": "stdout",
     "output_type": "stream",
     "text": [
      "+-------------------+------+-----+-------+---------+---------+--------------------+--------------------+----+-----+\n",
      "|         start_time|userId|level|song_id|artist_id|sessionId|            location|           userAgent|year|month|\n",
      "+-------------------+------+-----+-------+---------+---------+--------------------+--------------------+----+-----+\n",
      "|2018-11-15 00:30:26|    26| free|   null|     null|      583|San Jose-Sunnyval...|\"Mozilla/5.0 (X11...|2018|   11|\n",
      "|2018-11-15 00:41:21|    26| free|   null|     null|      583|San Jose-Sunnyval...|\"Mozilla/5.0 (X11...|2018|   11|\n",
      "|2018-11-15 00:45:41|    26| free|   null|     null|      583|San Jose-Sunnyval...|\"Mozilla/5.0 (X11...|2018|   11|\n",
      "|2018-11-15 03:44:09|    61| free|   null|     null|      597|Houston-The Woodl...|\"Mozilla/5.0 (Mac...|2018|   11|\n",
      "|2018-11-15 05:48:55|    80| paid|   null|     null|      602|Portland-South Po...|\"Mozilla/5.0 (Mac...|2018|   11|\n",
      "+-------------------+------+-----+-------+---------+---------+--------------------+--------------------+----+-----+\n",
      "only showing top 5 rows\n",
      "\n"
     ]
    }
   ],
   "source": [
    "songplays_parquet = spark.read.parquet(os.path.join(output_data, 'songplays'))\n",
    "songplays_parquet.show(5)"
   ]
  },
  {
   "cell_type": "code",
   "execution_count": 107,
   "metadata": {},
   "outputs": [
    {
     "name": "stdout",
     "output_type": "stream",
     "text": [
      "+------------------+--------------------+------------------+----+---------+\n",
      "|           song_id|               title|         artist_id|year| duration|\n",
      "+------------------+--------------------+------------------+----+---------+\n",
      "|SOKTJDS12AF72A25E5|Drown In My Own T...|ARA23XO1187B9AF18F|   0|  192.522|\n",
      "|SOEKAZG12AB018837E|I'll Slap Your Fa...|ARSVTNL1187B992A91|2001|129.85424|\n",
      "|SOAFBCP12A8C13CC7D|King Of Scurf (20...|ARTC1LV1187B9A4858|1972|301.40036|\n",
      "|SOAPERH12A58A787DC|The One And Only ...|ARZ5H0P1187B98A1DD|   0|230.42567|\n",
      "|SOSMJFC12A8C13DE0C|Is That All There...|AR1KTV21187B9ACD72|   0|343.87546|\n",
      "|SONRWUU12AF72A4283|  Into The Nightlife|ARGE7G11187FB37E05|2008|240.63955|\n",
      "|SOXZYWX12A6310ED0C|     It's About Time|ARC1IHZ1187FB4E920|   0| 246.9873|\n",
      "|SOOVHYF12A8C134892|     I'll Be Waiting|ARCLYBR1187FB53913|1989|304.56118|\n",
      "|SOFSOCN12A8C143F5D|      Face the Ashes|ARXR32B1187FB57099|2007|209.60608|\n",
      "|SOHKNRJ12A6701D1F8|        Drop of Rain|AR10USD1187B99F3F1|   0|189.57016|\n",
      "+------------------+--------------------+------------------+----+---------+\n",
      "only showing top 10 rows\n",
      "\n"
     ]
    }
   ],
   "source": [
    "song_data_from_parquet = spark.read.parquet(os.path.join(output_data, 'songs'))\n",
    "song_data_from_parquet.show(10)"
   ]
  },
  {
   "cell_type": "code",
   "execution_count": 10,
   "metadata": {},
   "outputs": [],
   "source": [
    "try:\n",
    "    songplays_data_from_parquet = spark.read.parquet(os.path.join(output_data, 'songplays'))\n",
    "except:\n",
    "    print(\"File do not exist\")\n",
    "#songplays_data_from_parquet.show(10)"
   ]
  },
  {
   "cell_type": "code",
   "execution_count": 11,
   "metadata": {},
   "outputs": [
    {
     "name": "stdout",
     "output_type": "stream",
     "text": [
      "+-----------+-------------------+------+-----+-------+---------+---------+--------------------+--------------------+----+-----+\n",
      "|songplay_id|         start_time|userId|level|song_id|artist_id|sessionId|            location|           userAgent|year|month|\n",
      "+-----------+-------------------+------+-----+-------+---------+---------+--------------------+--------------------+----+-----+\n",
      "|          1|2018-11-01 21:01:46|     8| free|   null|     null|      139|Phoenix-Mesa-Scot...|\"Mozilla/5.0 (Win...|2018|   11|\n",
      "|          2|2018-11-01 21:05:52|     8| free|   null|     null|      139|Phoenix-Mesa-Scot...|\"Mozilla/5.0 (Win...|2018|   11|\n",
      "|          3|2018-11-01 21:08:16|     8| free|   null|     null|      139|Phoenix-Mesa-Scot...|\"Mozilla/5.0 (Win...|2018|   11|\n",
      "|          4|2018-11-01 21:11:13|     8| free|   null|     null|      139|Phoenix-Mesa-Scot...|\"Mozilla/5.0 (Win...|2018|   11|\n",
      "|          5|2018-11-01 21:17:33|     8| free|   null|     null|      139|Phoenix-Mesa-Scot...|\"Mozilla/5.0 (Win...|2018|   11|\n",
      "+-----------+-------------------+------+-----+-------+---------+---------+--------------------+--------------------+----+-----+\n",
      "only showing top 5 rows\n",
      "\n"
     ]
    }
   ],
   "source": [
    "songplays_data_from_parquet.show(5)"
   ]
  },
  {
   "cell_type": "code",
   "execution_count": 7,
   "metadata": {},
   "outputs": [],
   "source": [
    "!rm -rf spark-warehouse/songplays"
   ]
  }
 ],
 "metadata": {
  "kernelspec": {
   "display_name": "Python 3",
   "language": "python",
   "name": "python3"
  },
  "language_info": {
   "codemirror_mode": {
    "name": "ipython",
    "version": 3
   },
   "file_extension": ".py",
   "mimetype": "text/x-python",
   "name": "python",
   "nbconvert_exporter": "python",
   "pygments_lexer": "ipython3",
   "version": "3.6.3"
  }
 },
 "nbformat": 4,
 "nbformat_minor": 4
}
